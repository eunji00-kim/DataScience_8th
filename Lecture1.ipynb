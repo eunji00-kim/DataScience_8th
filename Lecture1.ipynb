{
 "cells": [
  {
   "cell_type": "markdown",
   "id": "b9c3a38b",
   "metadata": {},
   "source": [
    "# Lecture1"
   ]
  },
  {
   "cell_type": "markdown",
   "id": "7d2ec6cb",
   "metadata": {},
   "source": [
    "# 주피터 노트북 사용법\n",
    "* Shift + Enter: 셀이 실행되고 커서가 다음 셀로 이동\n",
    "* Enter: 다시 편집 상태로 돌아옴\n",
    "* ESC +\n",
    "    * a: 위에 셀이 추가\n",
    "    * b: 아래에 셀이 추가\n",
    "    * dd: 셀이 삭제\n",
    "    * m: 문서 셀로 변경\n",
    "    * y: 코드 셀로 변경\n",
    "* h: 단축키 볼 수 있음\n",
    "\n",
    "## 마크다운(Markdown)이란?\n",
    "* 코드와 함께 문서화를 할 수 있음\n",
    "* 문서화를 할 수 있는 `문법`\n",
    "```\n",
    "여러 줄의 설명을\n",
    "줄바꿈으로 쓰고 할 때\n",
    "```"
   ]
  },
  {
   "cell_type": "code",
   "execution_count": 1,
   "id": "cb6d9545",
   "metadata": {},
   "outputs": [
    {
     "name": "stdout",
     "output_type": "stream",
     "text": [
      "Hello World!\n"
     ]
    }
   ],
   "source": [
    "print(\"Hello World!\")"
   ]
  }
 ],
 "metadata": {
  "kernelspec": {
   "display_name": "Python 3",
   "language": "python",
   "name": "python3"
  },
  "language_info": {
   "codemirror_mode": {
    "name": "ipython",
    "version": 3
   },
   "file_extension": ".py",
   "mimetype": "text/x-python",
   "name": "python",
   "nbconvert_exporter": "python",
   "pygments_lexer": "ipython3",
   "version": "3.8.8"
  }
 },
 "nbformat": 4,
 "nbformat_minor": 5
}
